{
 "cells": [
  {
   "cell_type": "markdown",
   "id": "22c0a3ca-233f-47b9-adfe-166eefcead9c",
   "metadata": {},
   "source": [
    "# My Jupyter Notebook on IBM Watson Studio"
   ]
  },
  {
   "cell_type": "markdown",
   "id": "57c59335-25fb-4765-9c54-1c91cc3546c5",
   "metadata": {},
   "source": [
    "**Diana Andrea Sermeño**\n",
    "\n",
    "My current occupation: I'm a project manager of a small team of data science in a bank in Peru."
   ]
  },
  {
   "cell_type": "markdown",
   "id": "c0442287-0ed8-4e12-bd65-6464ca7c1ab6",
   "metadata": {},
   "source": [
    "*I am interested in data science because I want to build innovative models to mitigate financial and non-financial risks in the bank where i'm working*"
   ]
  },
  {
   "cell_type": "markdown",
   "id": "0b2e4765-ce2f-4637-9c0c-b108cb462921",
   "metadata": {},
   "source": [
    "### In the next cell, I'll calculate 2 to the power 2"
   ]
  },
  {
   "cell_type": "code",
   "execution_count": 5,
   "id": "efe8ad8b-27ed-4a89-8a66-ca0628360b0b",
   "metadata": {},
   "outputs": [
    {
     "data": {
      "text/plain": [
       "4"
      ]
     },
     "execution_count": 5,
     "metadata": {},
     "output_type": "execute_result"
    }
   ],
   "source": [
    "2**2"
   ]
  },
  {
   "cell_type": "markdown",
   "id": "65f5552a-3607-4467-ade5-b5d3660f2508",
   "metadata": {},
   "source": [
    "1. Open a jupyter notebook\n",
    "2. Write your name\n",
    "3. Detail your occupation\n",
    "4. Asnwer why are you interesting in Data Science?\n",
    "\n",
    "\n",
    "---\n",
    "\n",
    "- Jupyter\n",
    "- R\n",
    "- IBM Watson\n",
    "- Julia\n",
    "\n",
    "\n",
    "You use `print` to visualize the output of your code\n",
    "\n",
    "\n"
   ]
  }
 ],
 "metadata": {
  "kernelspec": {
   "display_name": "Python",
   "language": "python",
   "name": "conda-env-python-py"
  },
  "language_info": {
   "codemirror_mode": {
    "name": "ipython",
    "version": 3
   },
   "file_extension": ".py",
   "mimetype": "text/x-python",
   "name": "python",
   "nbconvert_exporter": "python",
   "pygments_lexer": "ipython3",
   "version": "3.7.12"
  }
 },
 "nbformat": 4,
 "nbformat_minor": 5
}
