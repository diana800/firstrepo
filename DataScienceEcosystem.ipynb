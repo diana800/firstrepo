{
 "cells": [
  {
   "cell_type": "markdown",
   "id": "d07d28a2-cf5a-489c-95d4-68d5847a59b3",
   "metadata": {},
   "source": [
    "# Data Science Tools and Ecosystem"
   ]
  },
  {
   "cell_type": "markdown",
   "id": "c62f000e-a157-4e63-8b3d-ee4beed7beb9",
   "metadata": {},
   "source": [
    "Introduction: In this notebook, Data Science Tools and Ecosystem are summarized."
   ]
  },
  {
   "cell_type": "markdown",
   "id": "56cf565a-8bc7-4f15-8d42-32b64a61a55c",
   "metadata": {},
   "source": [
    "**Objectives:**\n",
    "- List popular languages for Data Science\n",
    "- List popular libraries for Data Science\n",
    "- List popular tools for Data Science\n",
    "- Examples of evaluating arithmetic expressions in Python\n",
    "- How to share your notebook through GitHub"
   ]
  },
  {
   "cell_type": "markdown",
   "id": "3b804c59-6599-4f45-b2d4-9ec34f948191",
   "metadata": {},
   "source": [
    "#### Data Science languages\n",
    "\n",
    "Some of the popular languages that Data Scientists use are:\n",
    "\n",
    "1. Python\n",
    "2. R\n",
    "3. Java\n",
    "4. Julia\n"
   ]
  },
  {
   "cell_type": "markdown",
   "id": "675190b9-f539-4153-a840-e70572ed9ff6",
   "metadata": {},
   "source": [
    "#### Data science libraries\n",
    "\n",
    "Some of the commonly used libraries used by Data Scientists include:\n",
    "\n",
    "1. Pandas\n",
    "2. Numpy\n",
    "3. TensorFlow\n",
    "4. SciPy\n",
    "\n"
   ]
  },
  {
   "cell_type": "markdown",
   "id": "dd3754fe-3678-4a7b-9765-10f09f71b3b9",
   "metadata": {},
   "source": [
    "#### Data Science tools\n",
    "\n",
    "\n",
    "| Data Science Tools | \n",
    "|---|\n",
    "| IBM Watson <br/> SAS <br/> Anaconda |\n"
   ]
  },
  {
   "cell_type": "markdown",
   "id": "5ded2acf-5078-46ef-9a15-885969f9313b",
   "metadata": {},
   "source": [
    "### Below are a few examples of evaluating arithmetic expressions in Python"
   ]
  },
  {
   "cell_type": "markdown",
   "id": "49719e84-8c76-4f9f-a2e4-e2370fd68e5b",
   "metadata": {},
   "source": [
    "*This a simple arithmetic expression to mutiply then add integers*"
   ]
  },
  {
   "cell_type": "code",
   "execution_count": 1,
   "id": "f71cdbae-3394-4df2-8262-80c369e91b33",
   "metadata": {},
   "outputs": [
    {
     "data": {
      "text/plain": [
       "17"
      ]
     },
     "execution_count": 1,
     "metadata": {},
     "output_type": "execute_result"
    }
   ],
   "source": [
    "(3*4)+5"
   ]
  },
  {
   "cell_type": "markdown",
   "id": "9274ffd3-4cec-46a1-baaf-192c5b5e6d97",
   "metadata": {},
   "source": [
    "*This will convert 200 minutes to hours by diving by 60*"
   ]
  },
  {
   "cell_type": "code",
   "execution_count": 2,
   "id": "b108e458-481f-44e0-8982-28f90645f795",
   "metadata": {},
   "outputs": [
    {
     "data": {
      "text/plain": [
       "3.3333333333333335"
      ]
     },
     "execution_count": 2,
     "metadata": {},
     "output_type": "execute_result"
    }
   ],
   "source": [
    "200/60"
   ]
  },
  {
   "cell_type": "markdown",
   "id": "dcc2e323-bb82-4efb-b02a-00163432d249",
   "metadata": {},
   "source": [
    "## Author\n",
    "Diana Sermeño"
   ]
  }
 ],
 "metadata": {
  "kernelspec": {
   "display_name": "Python",
   "language": "python",
   "name": "conda-env-python-py"
  },
  "language_info": {
   "codemirror_mode": {
    "name": "ipython",
    "version": 3
   },
   "file_extension": ".py",
   "mimetype": "text/x-python",
   "name": "python",
   "nbconvert_exporter": "python",
   "pygments_lexer": "ipython3",
   "version": "3.7.12"
  }
 },
 "nbformat": 4,
 "nbformat_minor": 5
}
